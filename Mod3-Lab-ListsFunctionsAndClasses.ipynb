{
 "cells": [
  {
   "cell_type": "code",
   "execution_count": 39,
   "id": "8a5a926f-3e61-4a0b-bc16-af73636e4300",
   "metadata": {},
   "outputs": [
    {
     "name": "stdin",
     "output_type": "stream",
     "text": [
      "Enter the year:  2022\n",
      "Enter the make:  Toyota\n",
      "Enter the model:  Corolla\n",
      "Enter the number of doors (2 or 4):  4\n",
      "Enter the type of roof (solid or sun roof):  sun roof\n"
     ]
    },
    {
     "name": "stdout",
     "output_type": "stream",
     "text": [
      "\n",
      "Here is our vehicule info:\n",
      "Vehicle type: car\n",
      "Year: 2022\n",
      "Make: Toyota\n",
      "Model: Corolla\n",
      "Number of doors: 4\n",
      "Type of roof: sun roof\n"
     ]
    }
   ],
   "source": [
    "# this program will define a super class and an inherited class. \n",
    "# the user will be prompted for the vehicule information. the child class will display the collected information\n",
    "class Vehicle():\n",
    "     #vehicleType # car, truck, plane, boat, or a broomstick.\n",
    "     def __init__(self, vehicleType):\n",
    "        self.vehicleType = vehicleType\n",
    "\n",
    "class Automobile(Vehicle):\n",
    "    def __init__(self, vehicleType):\n",
    "        super().__init__(vehicleType)\n",
    "        self.year = \"\"\n",
    "        self.make = \"\"\n",
    "        self.model = \"\"\n",
    "        self.doors = \"\"\n",
    "        self.roof = \"\"\n",
    "\n",
    "    def showMyVehiculeInfo(self):\n",
    "        print(\"\")\n",
    "        print(\"Here is our vehicule info:\")\n",
    "        print(\"Vehicle type:\", self.vehicleType)\n",
    "        print(\"Year:\", self.year)\n",
    "        print(\"Make:\", self.make)\n",
    "        print(\"Model:\", self.model)\n",
    "        print(\"Number of doors:\", self.doors)\n",
    "        print(\"Type of roof:\", self.roof)\n",
    "        \n",
    "car = Automobile(\"car\")\n",
    "car.year = input(\"Enter the year: \")\n",
    "car.make = input(\"Enter the make: \")\n",
    "car.model = input(\"Enter the model: \")\n",
    "car.doors = input(\"Enter the number of doors (2 or 4): \")\n",
    "car.roof = input(\"Enter the type of roof (solid or sun roof): \")   \n",
    "car.showMyVehiculeInfo()\n"
   ]
  },
  {
   "cell_type": "code",
   "execution_count": null,
   "id": "0375d15d-0a15-492f-9cc4-f61bc47fc2c4",
   "metadata": {},
   "outputs": [],
   "source": []
  }
 ],
 "metadata": {
  "kernelspec": {
   "display_name": "Python 3 (ipykernel)",
   "language": "python",
   "name": "python3"
  },
  "language_info": {
   "codemirror_mode": {
    "name": "ipython",
    "version": 3
   },
   "file_extension": ".py",
   "mimetype": "text/x-python",
   "name": "python",
   "nbconvert_exporter": "python",
   "pygments_lexer": "ipython3",
   "version": "3.12.7"
  }
 },
 "nbformat": 4,
 "nbformat_minor": 5
}
